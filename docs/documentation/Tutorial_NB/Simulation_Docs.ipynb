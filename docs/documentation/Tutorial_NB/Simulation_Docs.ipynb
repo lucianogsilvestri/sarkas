{
 "cells": [
  {
   "cell_type": "markdown",
   "id": "motivated-street",
   "metadata": {
    "pycharm": {
     "name": "#%% md\n"
    }
   },
   "source": [
    "# Running a Simulation\n",
    "\n",
    "Now that we have tuned the simulation’s parameter it is time to run it. Because this is another notebook we copy the first cell of the [Pre Simulation Testing notebook](./Pre_Simulation_Testing.ipynb) and then run the simulation with only three lines of code.\n",
    "\n",
    "The YAML input file can be found at [input_file](https://raw.githubusercontent.com/murillo-group/sarkas/master/docs/documentation/Tutorial_NB/input_files/yukawa_mks_p3m.yaml) and this notebook at [notebook](https://raw.githubusercontent.com/murillo-group/sarkas/master/docs/documentation/Tutorial_NB/Simulation_Docs.ipynb)\n",
    "\n"
   ]
  },
  {
   "cell_type": "code",
   "execution_count": 1,
   "id": "inside-milan",
   "metadata": {
    "execution": {
     "iopub.execute_input": "2024-05-29T15:56:58.442523Z",
     "iopub.status.busy": "2024-05-29T15:56:58.442307Z",
     "iopub.status.idle": "2024-05-29T15:57:07.663451Z",
     "shell.execute_reply": "2024-05-29T15:57:07.663038Z",
     "shell.execute_reply.started": "2024-05-29T15:56:58.442497Z"
    },
    "pycharm": {
     "name": "#%%\n"
    }
   },
   "outputs": [],
   "source": [
    "# Import the usual libraries\n",
    "import os\n",
    "\n",
    "# Import sarkas\n",
    "from sarkas.processes import Simulation\n",
    "\n",
    "# Create the file path to the YAML input file\n",
    "input_file_name = os.path.join('input_files', 'yukawa_mks_p3m.yaml')"
   ]
  },
  {
   "cell_type": "markdown",
   "id": "covered-costume",
   "metadata": {
    "pycharm": {
     "name": "#%% md\n"
    }
   },
   "source": [
    "Then we run our simulation with only three lines of code"
   ]
  },
  {
   "cell_type": "code",
   "execution_count": 2,
   "id": "hydraulic-point",
   "metadata": {
    "execution": {
     "iopub.execute_input": "2024-05-29T15:57:07.664670Z",
     "iopub.status.busy": "2024-05-29T15:57:07.664523Z",
     "iopub.status.idle": "2024-05-29T16:29:58.238318Z",
     "shell.execute_reply": "2024-05-29T16:29:58.237951Z",
     "shell.execute_reply.started": "2024-05-29T15:57:07.664661Z"
    },
    "pycharm": {
     "name": "#%%\n"
    }
   },
   "outputs": [
    {
     "name": "stdout",
     "output_type": "stream",
     "text": [
      "\u001b[38;2;110;0;95m\n",
      "\n",
      "\n",
      "\n",
      "\n",
      "\n",
      " __            _             \n",
      "/ _\\ __ _ _ __| | ____ _ ___ \n",
      "\\ \\ / _` | '__| |/ / _` / __|\n",
      "_\\ \\ (_| | |  |   < (_| \\__ \\\n",
      "\\__/\\__,_|_|  |_|\\_\\__,_|___/\n",
      "                             \n",
      "\n",
      "\u001b[0m\n",
      "An open-source pure-python molecular dynamics suite for non-ideal plasmas.\n",
      "\n",
      "\n",
      "\n",
      "\n",
      "********************************************************************************\n",
      "                                   Simulation                                   \n",
      "********************************************************************************\n",
      "\n",
      "Job ID: yocp\n",
      "Job directory: SarkasSimulations/yocp_pppm\n",
      "Simulation directory: \n",
      "SarkasSimulations/yocp_pppm/Simulation\n",
      "\n",
      "Equilibration dumps directory: \n",
      "SarkasSimulations/yocp_pppm/Simulation/Equilibration/dumps\n",
      "Production dumps directory: \n",
      "SarkasSimulations/yocp_pppm/Simulation/Production/dumps\n",
      "\n",
      "Equilibration H5MD file: \n",
      "SarkasSimulations/yocp_pppm/Simulation/Equilibration/dumps/yocp_data.h5md\n",
      "Production H5MD file: \n",
      "SarkasSimulations/yocp_pppm/Simulation/Production/dumps/yocp_data.h5md\n",
      "\n",
      "PARTICLES:\n",
      "Total No. of particles = 10000\n",
      "No. of species = 1\n",
      "Species ID: 0\n",
      "\tName: H\n",
      "\tNo. of particles = 10000\n",
      "\tNumber density = 1.620000e+32 [N/m^3]\n",
      "\tAtomic weight = 1.000226e+00 [a.u.]\n",
      "\tMass = 1.673000e-27 [kg]\n",
      "\tMass density = 2.710260e+05 [kg/cc]\n",
      "\tCharge number/ionization degree = 1.0000\n",
      "\tCharge = 1.602177e-19 [C]\n",
      "\tTemperature = 5.802259e+03 [K] = 5.000000e-01 [eV]\n",
      "\tWigner-Seitz radius = 1.137973e-11 [m]\n",
      "\tDebye length =  4.129968e-13 [m]\n",
      "\tPlasma frequency =  1.675504e+16 [rad/s]\n",
      "\n",
      "ELECTRON BACKGROUND PROPERTIES:\n",
      "Number density: n_e = 1.620000e+32 [N/m^3]\n",
      "Wigner-Seitz radius: a_e = 1.137973e-11 [m]\n",
      "Temperature: T_e = 1.450565e+07 [K] = 1.250000e+03 [eV]\n",
      "de Broglie wavelength: lambda_deB = 1.957093e-11 [m]\n",
      "Thomas-Fermi length: lambda_TF = 2.272532e-11[m]\n",
      "Fermi wave number: k_F = 1.686470e+11 [1/m]\n",
      "Fermi Energy: E_F = 1.083628e+03 [eV]\n",
      "Relativistic parameter: x_F = 6.512461e-02 --> E_F = 1.082482e+03 [eV]\n",
      "Degeneracy parameter: Theta = 1.153532e+00\n",
      "Coupling: r_s = 0.215046,  Gamma_e = 0.084894\n",
      "Warm Dense Matter parameter: W = 1.6687e-01\n",
      "Chemical potential: mu = -2.8605e-01 k_B T_e = -3.2996e-01 E_F\n",
      "\n",
      "\n",
      "SIMULATION AND INITIAL PARTICLE BOX:\n",
      "Units: mks\n",
      "No. of non-zero box dimensions = 3\n",
      "Wigner-Seitz radius = 1.137973e-11 [m]\n",
      "Box side along x axis = 3.472931e+01 a_ws = 3.952104e-10 [m]\n",
      "Box side along y axis = 3.472931e+01 a_ws = 3.952104e-10 [m]\n",
      "Box side along z axis = 3.472931e+01 a_ws = 3.952104e-10 [m]\n",
      "Box Volume = 6.172840e-29 [m^3]\n",
      "Initial particle box side along x axis = 3.472931e+01 a_ws = 3.952104e-10 [m]\n",
      "Initial particle box side along y axis = 3.472931e+01 a_ws = 3.952104e-10 [m]\n",
      "Initial particle box side along z axis = 3.472931e+01 a_ws = 3.952104e-10 [m]\n",
      "Initial particle box Volume = 6.172840e-29 [m^3]\n",
      "Boundary conditions: periodic\n",
      "\n",
      "SIMULATION PHASES:\n",
      "Equilibration:\n",
      "\tNo. of equilibration steps = 7500\n",
      "\tTotal equilibration time = 3.7500e-14 [s] ~ 628 w_p = 99 plasma periods\n",
      "\tsnapshot interval step = 10\n",
      "\tsnapshot interval time = 5.0000e-17 [s] = 8.3775e-01 w_p = 1.3333e-01 plasma periods\n",
      "\tTotal number of snapshots = 750\n",
      "Production:\n",
      "\tNo. of production steps = 7500\n",
      "\tTotal production time = 3.7500e-14 [s] ~ 628 w_p = 99 plasma periods\n",
      "\tsnapshot interval step = 10\n",
      "\tsnapshot interval time = 5.0000e-17 [s] = 8.3775e-01 w_p = 1.3333e-01 plasma periods\n",
      "\tTotal number of snapshots = 750\n",
      "\n",
      "POTENTIAL:  yukawa\n",
      "screening type : thomas-fermi\n",
      "screening length = 2.272532e-11 [m]\n",
      "kappa = 0.5008\n",
      "Gamma_eff = 253.08\n",
      "\n",
      "ALGORITHM: pppm\n",
      "rcut = 5.5100 a_ws = 6.270200e-11 [m]\n",
      "No. of PP cells per dimension = [6 6 6]\n",
      "No. of particles in PP loop = 1078\n",
      "No. of PP neighbors per particle = 167\n",
      "Charge assignment orders: [6 6 6]\n",
      "FFT aliases: [3 3 3]\n",
      "Mesh: [64 64 64]\n",
      "Ewald parameter alpha = 0.6220 / a_ws = 5.465900e+10 [1/m]\n",
      "Mesh width = 0.5426, 0.5426, 0.5426 a_ws\n",
      "           = 6.1752e-12, 6.1752e-12, 6.1752e-12 [m]\n",
      "Mesh size * Ewald_parameter (h * alpha) = 0.3375, 0.3375, 0.3375\n",
      "                                        ~ 1/2, 1/2, 1/2\n",
      "PP Force Error = 2.804557e-06\n",
      "PM Force Error = 5.800217e-06\n",
      "Tot Force Error = 6.442675e-06\n",
      "\n",
      "\n",
      "THERMOSTAT:\n",
      "Type: berendsen\n",
      "First thermostating timestep, i.e. thermalization_timestep = 200\n",
      "Berendsen parameter tau: 200.000\n",
      "Berendsen relaxation rate: 0.005\n",
      "Timesteps to decay to 0.01: exp( - N dt/tau) = 0.01 ==> N = 9.21e+02\n",
      "(2 pi / w_p)/tau = 1.88e-18\n",
      "Plasma cycles to decay to 0.01: exp( - N_p dt/tau) = 0.01 ==> N_p = 2.46e+18\n",
      "Thermostating temperatures:\n",
      "Species ID 0: T_eq = 5.802259e+03 [K] = 5.000000e-01 [eV]\n",
      "\n",
      "INTEGRATOR:\n",
      "Equilibration Integrator Type: verlet\n",
      "Production Integrator Type: verlet\n",
      "Time step = 5.000000e-18 [s]\n",
      "Total plasma frequency = 1.675504e+16 [rad/s]\n",
      "w_p dt = 8.38e-02 [rad]\n",
      "Total plasma period (T) = 3.750026e-16 [s]\n",
      "dt/T = 1.33e-02\n",
      "Timesteps per plasma cycle ~ 75 \n",
      "\n",
      "\n",
      "\n",
      "------------------------ Initialization Times ------------------------ \n",
      "\n",
      "\n",
      "Particles Initialization Time: 0 sec 1 msec 793 usec 542 nsec\n",
      "\n",
      "Potential Initialization Time: 2 sec 128 msec 346 usec 833 nsec\n",
      "\n",
      "Total Simulation Initialization Time: 2 sec 145 msec 665 usec 542 nsec\n",
      "\n",
      "\n",
      "----------------------------Equilibration----------------------------- \n",
      "\n"
     ]
    },
    {
     "data": {
      "application/vnd.jupyter.widget-view+json": {
       "model_id": "49e31c3216f94cb997861ad31433f175",
       "version_major": 2,
       "version_minor": 0
      },
      "text/plain": [
       "  0%|          | 0/7500 [00:00<?, ?it/s]"
      ]
     },
     "metadata": {},
     "output_type": "display_data"
    },
    {
     "name": "stdout",
     "output_type": "stream",
     "text": [
      "\n",
      "Equilibration Time: 0 hrs 16 min 26 sec\n",
      "\n",
      "\n",
      "------------------------------Production------------------------------ \n",
      "\n"
     ]
    },
    {
     "data": {
      "application/vnd.jupyter.widget-view+json": {
       "model_id": "57ba531507ac4ed4b91aaff4cb04bc67",
       "version_major": 2,
       "version_minor": 0
      },
      "text/plain": [
       "  0%|          | 0/7500 [00:00<?, ?it/s]"
      ]
     },
     "metadata": {},
     "output_type": "display_data"
    },
    {
     "name": "stdout",
     "output_type": "stream",
     "text": [
      "\n",
      "Production Time: 0 hrs 16 min 21 sec\n",
      "\n",
      "Total Time: 0 hrs 32 min 48 sec\n",
      "\n",
      "\n",
      "========================= Filesize Estimates =========================\n",
      "\n",
      "Equilibration:\n",
      "\tH5MD filesize: 0 GB 519 MB 935 KB 416 bytes\n",
      "\n",
      "Production:\n",
      "\tH5MD filesize: 0 GB 519 MB 935 KB 416 bytes\n",
      "\n",
      "Total occupied space: 1 GB 15 MB 846 KB 832 bytes\n"
     ]
    }
   ],
   "source": [
    "sim = Simulation(input_file_name)\n",
    "sim.setup(read_yaml=True)\n",
    "sim.run()"
   ]
  },
  {
   "cell_type": "markdown",
   "id": "valuable-forum",
   "metadata": {
    "pycharm": {
     "name": "#%% md\n"
    }
   },
   "source": [
    "The verbose output of the simulation gives the same information as `PreProcess`. The first few lines tell us where the simulations' data is stored. Notice that these are diffrent than what was printed by `PreProcessing`. \n",
    "\n",
    ">**_NOTE:_**  This simulation was run on a 2019 Dell XPS 8930 with Intel Core i7-8700K @ 3.70Ghz and 48GB of RAM running Ubuntu 18.04. Actual run times will be different on your computer.\n",
    "\n",
    "## H5MD\n",
    "The simulation data is saved in a H5MD file. Each dump is a [.npz](https://numpy.org/doc/stable/reference/generated/numpy.savez.html) file containing the following information for each of phase:\n",
    "\n",
    "    Equilibration:\n",
    "     id = particles id's numbers, \n",
    "     names = species name of each particle,\n",
    "     pos = Particles positions N x 3 array,\n",
    "     vel = Particles velocities N x 3 array,\n",
    "     acc = Particles acceleration N x 3 array,\n",
    "     virial = Virial matrix N x 3 x 3 array,\n",
    "     time = Time in seconds\n",
    "\n",
    "    Production:\n",
    "     id = particles id's numbers, \n",
    "     names = species name of each particle,\n",
    "     pos = Particles positions N x 3 array,\n",
    "     vel = Particles velocities N x 3 array,\n",
    "     acc = Particles acceleration N x 3 array,\n",
    "     cntr = Number of times each particle has been folded back into the simulation box, N x 3 array,\n",
    "     rdf_hist = Instantaneous Histogram of the Radial Distribution Function,\n",
    "     virial = Virial matrix N x 3 x 3 array,\n",
    "     time = Time in seconds\n",
    "\n",
    "This information is saved by the [.dump()](../../api/util_subpckg/InputOutput_methods/sarkas.utilities.io.InputOutput.dump.rst#sarkas.utilities.io.InputOutput.dump) method of the [InputOutput](../../api/util_subpckg/sarkas.utilities.io.InputOutput.rst).\n",
    "\n",
    "The same method saves Energy and Temperature information in the Thermodynamics files also. This can be accessed by `sim.io.eq_energy_filename` and `sim.io.prod_energy_filename`. The information saved is the following:\n",
    "\n",
    "    Time, Total Energy, Total Kinetic Energy, Potential Energy, Total Temperature\n",
    "\n",
    "In addition, in the case of multispecies plasmas, the kinetic energy and the temperature of each species will be saved.\n",
    "\n",
    "Once the simulation is complete it is time to analyze the data. Follow this [link](./Post_Processing_Docs.rst)."
   ]
  },
  {
   "cell_type": "markdown",
   "id": "99daf40a-4cfb-44ef-ab1a-92ed78d523d4",
   "metadata": {},
   "source": [
    "### Explanation of H5MD Files\n",
    "\n",
    "H5MD (HDF5 for Molecular Dynamics) files are a standardized format for storing molecular dynamics data in a structured, efficient, and portable manner. The H5MD format is based on the HDF5 file format, which provides a flexible and efficient way to store large amounts of data.\n",
    "\n",
    "The H5MD format is described in detail in the paper by Pierre de Buyl et al., titled \"H5MD: A structured, efficient, and portable file format for molecular data,\" [link to paper](https://doi.org/10.1016/j.cpc.2014.01.018).\n",
    "\n",
    "### File Structure of H5MD Files\n",
    "\n",
    "The structure of an H5MD file is organized into several groups, each containing datasets and attributes that store different types of MD data. The main groups include:\n",
    "\n",
    "1. **`h5md` Group**: This group contains metadata about the H5MD format version and general information about the simulation.\n",
    "\n",
    "2. **`particles` Group**: This group is used to store data related to particles, such as positions, velocities, accelerations, and other particles properties. The positions, velocities, and accelerations subgroups hold time-dependent datasets and static properties of the particles. For example:\n",
    "\n",
    "        Positions: Stored in a subgroup called position, which contains three datasets:\n",
    "            value Dataset: Stores the x, y, and z coordinates of particles.\n",
    "                Shape: (timesteps, num_particles, 3)\n",
    "                Data Type: float64\n",
    "            time Dataset: Stores the timestamps for each recorded position.\n",
    "                Shape: (timesteps,)\n",
    "                Data Type: float64\n",
    "            step Dataset: Stores the simulation steps corresponding to each recorded position.\n",
    "                Shape: (timesteps,)\n",
    "                Data Type: int64\n",
    "\n",
    "3. **`box` Group**: This group is contained in `particles` and it contains information about the simulation box, such as its dimensions and periodicity.\n",
    "\n",
    "4. **`observables` Group**: This group contains the thermodynamic quantities of each species and observables that are general, such as `rdf_hist`, which is the histogram used to calculate the pair distribution function obtained while running the simulations. For example:\n",
    "\n",
    "        [species_name]/temperature: Stored in within a subgroup with the species name.\n",
    "            value Dataset: Stores the temperature values of the system.\n",
    "                Shape: (timesteps,)\n",
    "                Data Type: float64\n",
    "            time Dataset: Stores the timestamps for each recorded temperature.\n",
    "                Shape: (timesteps,)\n",
    "                Data Type: float64\n",
    "            step Dataset: Stores the simulation steps corresponding to each recorded temperature.\n",
    "                Shape: (timesteps,)\n",
    "                Data Type: int64\n",
    "\n",
    "   \n",
    "        rdf_hist: Stored in a subgroup called rdf_hist, which contains three datasets:\n",
    "            value Dataset: Stores the histogram values.\n",
    "                Shape: (timesteps, num_species, num_species, num_bins)\n",
    "                Data Type: float64\n",
    "            time Dataset: Stores the timestamps for each recorded histogram.\n",
    "                Shape: (timesteps,)\n",
    "                Data Type: float64\n",
    "            step Dataset: Stores the simulation steps corresponding to each recorded histogram.\n",
    "                Shape: (timesteps,)\n",
    "                Data Type: int64\n",
    "\n",
    "The following code provides an example of how to access and interact with datasets stored in an H5MD file using the `h5py` library. This code is structured to read specific datasets, list available datasets within a group, and print relevant data along with their attributes.\n"
   ]
  },
  {
   "cell_type": "code",
   "execution_count": 3,
   "id": "d4392477-1429-4e10-b780-c2e98b62805a",
   "metadata": {
    "execution": {
     "iopub.execute_input": "2024-05-29T16:29:58.239235Z",
     "iopub.status.busy": "2024-05-29T16:29:58.239044Z",
     "iopub.status.idle": "2024-05-29T16:29:58.247878Z",
     "shell.execute_reply": "2024-05-29T16:29:58.247634Z",
     "shell.execute_reply.started": "2024-05-29T16:29:58.239224Z"
    }
   },
   "outputs": [
    {
     "name": "stdout",
     "output_type": "stream",
     "text": [
      "The groups in the H5MD file are:\n",
      "<KeysViewHDF5 ['h5md', 'observables', 'particles']>\n",
      "\n",
      "The particles group has these datasets:\n",
      "acc \tshape: (751, 10000, 3)\n",
      "charges \tshape: (10000,)\n",
      "masses \tshape: (10000,)\n",
      "names \tshape: (10000,)\n",
      "pos \tshape: (751, 10000, 3)\n",
      "species \tshape: (10000,)\n",
      "step \tshape: (751,)\n",
      "time \tshape: (751,)\n",
      "vel \tshape: (751, 10000, 3)\n",
      "\n",
      "The position of the first particle at the 500th timestep is: [2.55152125e-10 3.56385370e-10 3.11884623e-10]\n",
      "\n",
      "The subgroups of observables are:\n",
      "<KeysViewHDF5 ['H', 'rdf_hist']>\n",
      "\n",
      "The stored properties (subgroups) of H are:\n",
      "<KeysViewHDF5 ['kinetic_energy', 'potential_energy', 'temperature', 'total_energy']>\n",
      "\n",
      "Each of the has three datasets:\n",
      "step\n",
      "time\n",
      "value\n",
      "\n",
      "The temperature has shape: (751,)\n",
      "The temperature at the 50th dump is: 5784.78 [K]\n"
     ]
    }
   ],
   "source": [
    "import h5py\n",
    "\n",
    "# Function to list all datasets in a given group\n",
    "def list_datasets(group):\n",
    "    \"\"\"\n",
    "    List all datasets in a given HDF5 group.\n",
    "\n",
    "    Parameters\n",
    "    ----------\n",
    "    group : h5py.Group\n",
    "        The HDF5 group to list datasets from.\n",
    "\n",
    "    Returns\n",
    "    -------\n",
    "    list of str\n",
    "        A list of dataset names within the specified group.\n",
    "    \"\"\"\n",
    "    datasets = []  # Initialize an empty list to store dataset names\n",
    "    for name, item in group.items():  # Iterate over all items in the group\n",
    "        if isinstance(item, h5py.Dataset):  # Check if the item is a dataset\n",
    "            datasets.append(name)  # Add the dataset name to the list\n",
    "    return datasets  # Return the list of dataset names\n",
    "\n",
    "# Open the H5MD file in read-only mode\n",
    "with h5py.File(sim.io.h5md_filenames_tree[\"simulation\"][\"production\"], 'r') as file:\n",
    "\n",
    "    print(f\"The groups in the H5MD file are:\\n{file.keys()}\")\n",
    "    \n",
    "    # Open the positions subgroup\n",
    "    particles_group = file[\"particles\"]\n",
    "    \n",
    "    # List all datasets in the 'temperature' subgroup under 'observables/H'\n",
    "    datasets = list_datasets(particles_group)\n",
    "    print(\"\\nThe particles group has these datasets:\")\n",
    "    for dataset in datasets:  # Iterate over the dataset names\n",
    "        print(f\"{dataset} \\tshape: {particles_group[dataset].shape}\") # Print each dataset name and shape\n",
    "\n",
    "    # Access the 50th entry in the 'particles/pos' dataset and print the first particles position\n",
    "    print(f\"\\nThe position of the first particle at the 500th timestep is: {particles_group['pos'][50,0]}\") \n",
    "    # 50 because we save data every 10 timesteps\n",
    "\n",
    "    \n",
    "    # Access the 'observables' group in the HDF5 file\n",
    "    observables_group = file[\"observables\"]\n",
    "    print(f\"\\nThe subgroups of observables are:\\n{observables_group.keys()}\")  # Print all keys (subgroups) in the 'observables' group\n",
    "\n",
    "    # Access the thermodynamic properties stored under the \"observables/H\" group\n",
    "    species_thermodynamics = file[\"observables/H\"]\n",
    "    print(f\"\\nThe stored properties (subgroups) of H are:\\n{species_thermodynamics.keys()}\")  # List all keys under the 'observables/H' group to see what properties are stored\n",
    "\n",
    "    # List all datasets in the 'temperature' subgroup under 'observables/H'\n",
    "    datasets = list_datasets(species_thermodynamics[\"temperature\"])\n",
    "    print(\"\\nEach of the has three datasets:\")\n",
    "    for dataset in datasets:  # Iterate over the dataset names\n",
    "        print(dataset)  # Print each dataset name\n",
    "\n",
    "    # Access the 'temperature' data from the 'observables/H' group\n",
    "    temp = species_thermodynamics[\"temperature\"]\n",
    "    print(f\"\\nThe temperature has shape: {temp['value'].shape}\")  # Print the shape of the 'value' dataset in 'temperature'\n",
    "\n",
    "    # Print the temperature value at the 500th timestep (corresponding to index 50 in the saved data)\n",
    "    # Also, print the units of the temperature, which are stored as an attribute\n",
    "    print(f\"The temperature at the 50th dump is: {temp['value'][50]:.2f} {temp.attrs['units']}\")  # Access and print the temperature value and units\n"
   ]
  },
  {
   "cell_type": "code",
   "execution_count": null,
   "id": "4591c80d-0790-4879-8eb7-96d5db1e0edc",
   "metadata": {},
   "outputs": [],
   "source": []
  }
 ],
 "metadata": {
  "kernelspec": {
   "display_name": "Python 3 (ipykernel)",
   "language": "python",
   "name": "python3"
  },
  "language_info": {
   "codemirror_mode": {
    "name": "ipython",
    "version": 3
   },
   "file_extension": ".py",
   "mimetype": "text/x-python",
   "name": "python",
   "nbconvert_exporter": "python",
   "pygments_lexer": "ipython3",
   "version": "3.9.18"
  },
  "widgets": {
   "application/vnd.jupyter.widget-state+json": {
    "state": {
     "08782118683c47c5840cc7a1bd435a1e": {
      "model_module": "@jupyter-widgets/controls",
      "model_module_version": "1.5.0",
      "model_name": "DescriptionStyleModel",
      "state": {
       "description_width": ""
      }
     },
     "276e35f6de5042489a1fa258a5b916ea": {
      "model_module": "@jupyter-widgets/controls",
      "model_module_version": "1.5.0",
      "model_name": "DescriptionStyleModel",
      "state": {
       "description_width": ""
      }
     },
     "28f4dd3bdd2e41f39a8b4c2879119e95": {
      "model_module": "@jupyter-widgets/controls",
      "model_module_version": "1.5.0",
      "model_name": "DescriptionStyleModel",
      "state": {
       "description_width": ""
      }
     },
     "480dd60b8c274d96b5cbb62d152f45a9": {
      "model_module": "@jupyter-widgets/base",
      "model_module_version": "1.2.0",
      "model_name": "LayoutModel",
      "state": {}
     },
     "4ac44be458174c3f919def3ad23752f0": {
      "model_module": "@jupyter-widgets/controls",
      "model_module_version": "1.5.0",
      "model_name": "HBoxModel",
      "state": {
       "children": [
        "IPY_MODEL_d14d8a8f31f247ed8ced8d9737a8ca25",
        "IPY_MODEL_963a8a2223cb42b5955d1270558538c0",
        "IPY_MODEL_9c8099d95f6a4cd9bb87c99046bf8b02"
       ],
       "layout": "IPY_MODEL_f572d60fe4fb48f6aadde2d4f7fe9bb0"
      }
     },
     "5580bc8b639f4b14978f0239a159f5c2": {
      "model_module": "@jupyter-widgets/controls",
      "model_module_version": "1.5.0",
      "model_name": "ProgressStyleModel",
      "state": {
       "description_width": ""
      }
     },
     "6a09fcbda1554c4b8ca422b34ade34b0": {
      "model_module": "@jupyter-widgets/controls",
      "model_module_version": "1.5.0",
      "model_name": "FloatProgressModel",
      "state": {
       "bar_style": "success",
       "layout": "IPY_MODEL_6e0ee180b9074e34ac4cf33581348cfb",
       "max": 5000,
       "style": "IPY_MODEL_99010ea9543e40e2a3129517af5be3c4",
       "value": 5000
      }
     },
     "6e0ee180b9074e34ac4cf33581348cfb": {
      "model_module": "@jupyter-widgets/base",
      "model_module_version": "1.2.0",
      "model_name": "LayoutModel",
      "state": {}
     },
     "771c347d6ceb4d848321b8286a6e0e68": {
      "model_module": "@jupyter-widgets/base",
      "model_module_version": "1.2.0",
      "model_name": "LayoutModel",
      "state": {}
     },
     "7d62f2c001ce4447a6eaf6323d7a6e5d": {
      "model_module": "@jupyter-widgets/base",
      "model_module_version": "1.2.0",
      "model_name": "LayoutModel",
      "state": {}
     },
     "8a3501b9a6df4f539ad684a9fd3b68f9": {
      "model_module": "@jupyter-widgets/controls",
      "model_module_version": "1.5.0",
      "model_name": "DescriptionStyleModel",
      "state": {
       "description_width": ""
      }
     },
     "963a8a2223cb42b5955d1270558538c0": {
      "model_module": "@jupyter-widgets/controls",
      "model_module_version": "1.5.0",
      "model_name": "FloatProgressModel",
      "state": {
       "bar_style": "success",
       "layout": "IPY_MODEL_771c347d6ceb4d848321b8286a6e0e68",
       "max": 5000,
       "style": "IPY_MODEL_5580bc8b639f4b14978f0239a159f5c2",
       "value": 5000
      }
     },
     "969dce3debfb4ef4a9364db9b72c80ea": {
      "model_module": "@jupyter-widgets/controls",
      "model_module_version": "1.5.0",
      "model_name": "HTMLModel",
      "state": {
       "layout": "IPY_MODEL_480dd60b8c274d96b5cbb62d152f45a9",
       "style": "IPY_MODEL_28f4dd3bdd2e41f39a8b4c2879119e95",
       "value": " 5000/5000 [22:39&lt;00:00,  3.79it/s]"
      }
     },
     "99010ea9543e40e2a3129517af5be3c4": {
      "model_module": "@jupyter-widgets/controls",
      "model_module_version": "1.5.0",
      "model_name": "ProgressStyleModel",
      "state": {
       "description_width": ""
      }
     },
     "9c8099d95f6a4cd9bb87c99046bf8b02": {
      "model_module": "@jupyter-widgets/controls",
      "model_module_version": "1.5.0",
      "model_name": "HTMLModel",
      "state": {
       "layout": "IPY_MODEL_7d62f2c001ce4447a6eaf6323d7a6e5d",
       "style": "IPY_MODEL_8a3501b9a6df4f539ad684a9fd3b68f9",
       "value": " 5000/5000 [23:29&lt;00:00,  3.69it/s]"
      }
     },
     "a6fa192a11b54a8e9fd4a6139b3ca3b7": {
      "model_module": "@jupyter-widgets/base",
      "model_module_version": "1.2.0",
      "model_name": "LayoutModel",
      "state": {}
     },
     "af5c938d923340edbbe9c0579cf4cdd0": {
      "model_module": "@jupyter-widgets/controls",
      "model_module_version": "1.5.0",
      "model_name": "HBoxModel",
      "state": {
       "children": [
        "IPY_MODEL_e817bb8e8ead4bc99ded797f1ba4b540",
        "IPY_MODEL_6a09fcbda1554c4b8ca422b34ade34b0",
        "IPY_MODEL_969dce3debfb4ef4a9364db9b72c80ea"
       ],
       "layout": "IPY_MODEL_bffff5a5b99e4dbaa03365befa0aac79"
      }
     },
     "bffff5a5b99e4dbaa03365befa0aac79": {
      "model_module": "@jupyter-widgets/base",
      "model_module_version": "1.2.0",
      "model_name": "LayoutModel",
      "state": {}
     },
     "d14d8a8f31f247ed8ced8d9737a8ca25": {
      "model_module": "@jupyter-widgets/controls",
      "model_module_version": "1.5.0",
      "model_name": "HTMLModel",
      "state": {
       "layout": "IPY_MODEL_a6fa192a11b54a8e9fd4a6139b3ca3b7",
       "style": "IPY_MODEL_276e35f6de5042489a1fa258a5b916ea",
       "value": "100%"
      }
     },
     "e817bb8e8ead4bc99ded797f1ba4b540": {
      "model_module": "@jupyter-widgets/controls",
      "model_module_version": "1.5.0",
      "model_name": "HTMLModel",
      "state": {
       "layout": "IPY_MODEL_f89b15c9c454411fa1d8968893a57fd5",
       "style": "IPY_MODEL_08782118683c47c5840cc7a1bd435a1e",
       "value": "100%"
      }
     },
     "f572d60fe4fb48f6aadde2d4f7fe9bb0": {
      "model_module": "@jupyter-widgets/base",
      "model_module_version": "1.2.0",
      "model_name": "LayoutModel",
      "state": {}
     },
     "f89b15c9c454411fa1d8968893a57fd5": {
      "model_module": "@jupyter-widgets/base",
      "model_module_version": "1.2.0",
      "model_name": "LayoutModel",
      "state": {}
     }
    },
    "version_major": 2,
    "version_minor": 0
   }
  }
 },
 "nbformat": 4,
 "nbformat_minor": 5
}
