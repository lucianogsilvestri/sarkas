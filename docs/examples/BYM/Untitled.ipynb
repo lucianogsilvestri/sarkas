{
 "cells": [
  {
   "cell_type": "markdown",
   "id": "55d73fa3-5837-4030-8f17-5edf3f10083d",
   "metadata": {},
   "source": [
    "# Tutorial: Fourier Observables \n",
    "\n",
    "## Learning goals\n",
    "- Calculation of $n(\\mathbf k, t)$ \n",
    "- Calculation of $\\mathbf v(\\mathbf k,t )$\n",
    "\n",
    "Let's see how to calculate $n(\\mathbf k,t)$ and $\\mathbf v(\\mathbf k,t)$ in Sarkas. The first thing we need are all the possible $\\mathbf k$ values.\n",
    "\n",
    "## Discrete k-vectors\n",
    "\n",
    "As mentioned, in a cuboid box, the allowed k-vectors are:\n",
    "\n",
    "$$\\mathbf{k} = \\left(\\frac{2\\pi n_x}{L_x}, \\frac{2\\pi n_y}{L_y}, \\frac{2\\pi n_z}{L_z} \\right)$$\n",
    "\n",
    "where $n_x$, $n_y$, and $n_z$ are integers. The function `kspace_setup` is designed to calculate all allowed $\\mathbf k$-vectors for a given system. It performs several key operations to prepare $\\mathbf k$-vectors for further analysis:\n",
    "\n",
    "1. Generation of $\\mathbf k$-vectors: Based on the specified `angle_averaging` method, the function produces a set of $\\mathbf k$-vectors. The method chosen determines the comprehensiveness of the $\\mathbf k$-space sampling.\n",
    "\n",
    "2. Magnitude calculation: For each generated $\\mathbf k$-vector, the function computes its magnitude. This step is crucial for subsequent sorting and analysis.\n",
    "\n",
    "3. Sorting: The function organizes the $\\mathbf k$-vectors in ascending order based on their magnitudes. This sorting facilitates efficient processing and analysis in later stages.\n",
    "\n",
    "4. Frequency analysis: The function performs a count of the occurrences of each unique $\\mathbf k$-vector magnitude. This step provides valuable information about the distribution of $\\mathbf k$-vectors in the system.\n",
    "\n",
    "5. Indexing: Finally, the function assigns a unique index to each $\\mathbf k$-vector. These indices are particularly useful in subsequent calculations, such as structure factor computations.\n",
    "\n",
    "### What is `angle_averaging`?\n",
    "\n",
    "If the system under consideration is isotropic observables depend only on the magnitude of $\\mathbf k$, not its direction. To reduce statistical noise and improve computational efficiency, we can average over the directions (angles) of $\\mathbf k$. For instance, in an isotropic system, there's no inherent reason to prefer $\\mathbf k_x = [1, 0, 0]$ over $\\mathbf k_y = [0, 1, 0]$ or $\\mathbf k_z = [0, 0, 1]$ when they have the same magnitude.\n",
    "\n",
    "The `angle_averaging` parameter in `kspace_setup` allows users to control how this averaging is performed, balancing between computational cost and the comprehensiveness of $\\mathbf k$-space sampling. There are three options.\n",
    "\n",
    "#### 1. \"full\"\n",
    "\n",
    "This option provides the most comprehensive sampling of $\\mathbf k$-space.\n",
    "\n",
    "- Generates all possible combinations of $\\mathbf k$-vectors up to `max_k_harmonics` in each direction.\n",
    "- Includes the zero vector $[0, 0, 0]$ as the first $\\mathbf k$-vector.\n",
    "- $\\mathbf k$-vectors are generated as: $[2\\pi n_x/L_x, 2\\pi n_y/L_y, 2\\pi n_z/L_z]$\n",
    "  where $n_x$, $n_y$, $n_z$ range from 0 to their respective `max_k_harmonics` value.\n",
    "- Pros: Most accurate representation of $\\mathbf k$-space.\n",
    "- Cons: Computationally expensive, especially for large systems or high `max_k_harmonics` values.\n",
    "\n",
    "#### 2. \"principal_axis\"\n",
    "\n",
    "This option samples $\\mathbf k$-vectors only along the principal axes of the system.\n",
    "\n",
    "- Generates $\\mathbf k$-vectors exclusively along the x, y, and z axes.\n",
    "- Excludes the zero vector $[0, 0, 0]$.\n",
    "- $\\mathbf k$-vectors are generated in three sets:\n",
    "  1. $[2\\pi n_x/L_x, 0, 0]$ for $n_x$ from 1 to `max_k_harmonics[0]`\n",
    "  2. $[0, 2\\pi n_y/L_y, 0]$ for $n_y$ from 1 to `max_k_harmonics[1]`\n",
    "  3. $[0, 0, 2\\pi n_z/L_z]$ for $n_z$ from 1 to `max_k_harmonics[2]`\n",
    "- Pros: Computationally efficient, suitable for systems with strong directional anisotropy.\n",
    "- Cons: Limited sampling of $\\mathbf k$-space, may miss important off-axis contributions.\n",
    "\n",
    "#### 3. \"custom\"\n",
    "\n",
    "This option offers a compromise between the \"full\" and \"principal_axis\" methods.\n",
    "\n",
    "- Combines aspects of both \"full\" and \"principal_axis\" sampling.\n",
    "- First generates all possible combinations of $\\mathbf k$-vectors up to `max_aa_harmonics`.\n",
    "- Then appends additional $\\mathbf k$-vectors along the principal axes up to `max_k_harmonics`.\n",
    "- Pros: \n",
    "  - Provides detailed sampling in the low-$\\mathbf k$ region (up to `max_aa_harmonics`).\n",
    "  - Captures higher-$\\mathbf k$ contributions along the principal axes.\n",
    "  - Balances comprehensiveness and computational efficiency.\n",
    "- Cons: Requires careful selection of `max_aa_harmonics` and `max_k_harmonics` to optimize performance.\n",
    "\n",
    "The choice of `angle_averaging` depends on your specific system and computational resources. If your system is not isotropic choose `principal_axis`.\n",
    "\n",
    "Let's try out some code."
   ]
  },
  {
   "cell_type": "code",
   "execution_count": 1,
   "id": "79da6a20-2cde-4998-a754-0fcfec014a50",
   "metadata": {
    "execution": {
     "iopub.execute_input": "2024-08-31T22:18:44.579279Z",
     "iopub.status.busy": "2024-08-31T22:18:44.579031Z",
     "iopub.status.idle": "2024-08-31T22:18:45.665864Z",
     "shell.execute_reply": "2024-08-31T22:18:45.665201Z",
     "shell.execute_reply.started": "2024-08-31T22:18:44.579254Z"
    }
   },
   "outputs": [
    {
     "name": "stdout",
     "output_type": "stream",
     "text": [
      "\n",
      "k_arr = [n_x, n_y, n_z, magnitude, index]\n"
     ]
    },
    {
     "data": {
      "text/plain": [
       "array([[0.        , 0.1       , 0.        , 0.1       , 0.        ],\n",
       "       [0.1       , 0.        , 0.        , 0.1       , 0.        ],\n",
       "       [0.        , 0.        , 0.1       , 0.1       , 0.        ],\n",
       "       [0.        , 0.1       , 0.1       , 0.14142136, 1.        ],\n",
       "       [0.1       , 0.        , 0.1       , 0.14142136, 1.        ],\n",
       "       [0.1       , 0.1       , 0.        , 0.14142136, 1.        ],\n",
       "       [0.1       , 0.1       , 0.1       , 0.17320508, 2.        ],\n",
       "       [0.2       , 0.        , 0.        , 0.2       , 3.        ],\n",
       "       [0.        , 0.        , 0.2       , 0.2       , 3.        ],\n",
       "       [0.        , 0.2       , 0.        , 0.2       , 3.        ]])"
      ]
     },
     "metadata": {},
     "output_type": "display_data"
    },
    {
     "name": "stdout",
     "output_type": "stream",
     "text": [
      "\n",
      "k_counts = The number of time each unique magnitude of k is repeated\n"
     ]
    },
    {
     "data": {
      "text/plain": [
       "array([3, 3, 1, 3, 6, 3, 3, 3, 3, 6])"
      ]
     },
     "metadata": {},
     "output_type": "display_data"
    },
    {
     "name": "stdout",
     "output_type": "stream",
     "text": [
      "\n",
      "k_unique = The unique magnitudes of k\n"
     ]
    },
    {
     "data": {
      "text/plain": [
       "array([0.1       , 0.14142136, 0.17320508, 0.2       , 0.2236068 ,\n",
       "       0.24494897, 0.28284271, 0.3       , 0.3       , 0.31622777])"
      ]
     },
     "metadata": {},
     "output_type": "display_data"
    },
    {
     "name": "stdout",
     "output_type": "stream",
     "text": [
      "\n",
      "harmonics = The harmonics of each k-vector\n"
     ]
    },
    {
     "data": {
      "text/plain": [
       "array([[0.        , 1.        , 0.        , 1.        , 0.        ],\n",
       "       [1.        , 0.        , 0.        , 1.        , 0.        ],\n",
       "       [0.        , 0.        , 1.        , 1.        , 0.        ],\n",
       "       [0.        , 1.        , 1.        , 1.41421356, 1.        ],\n",
       "       [1.        , 0.        , 1.        , 1.41421356, 1.        ],\n",
       "       [1.        , 1.        , 0.        , 1.41421356, 1.        ],\n",
       "       [1.        , 1.        , 1.        , 1.73205081, 2.        ],\n",
       "       [2.        , 0.        , 0.        , 2.        , 3.        ],\n",
       "       [0.        , 0.        , 2.        , 2.        , 3.        ],\n",
       "       [0.        , 2.        , 0.        , 2.        , 3.        ]])"
      ]
     },
     "metadata": {},
     "output_type": "display_data"
    }
   ],
   "source": [
    "import numpy as np\n",
    "from sarkas.tools.observables import kspace_setup\n",
    "\n",
    "# Define parameters\n",
    "box_lengths = np.array([10.0, 10.0, 10.0])\n",
    "angle_averaging = \"full\"\n",
    "max_k_harmonics = np.array([5, 5, 5])\n",
    "max_aa_harmonics = np.array([3, 3, 3])\n",
    "\n",
    "# Call the function\n",
    "k_arr, k_counts, k_unique, harmonics = kspace_setup(box_lengths, angle_averaging, max_k_harmonics, max_aa_harmonics)\n",
    "\n",
    "# Print the results\n",
    "print(f\"\\nk_arr = [n_x, n_y, n_z, magnitude, index]\")\n",
    "display(k_arr[:10])\n",
    "\n",
    "# Print the k_counts\n",
    "print(f\"\\nk_counts = The number of time each unique magnitude of k is repeated\")\n",
    "display(k_counts[:10])\n",
    "\n",
    "# Print the k_unique\n",
    "print(f\"\\nk_unique = The unique magnitudes of k\")\n",
    "display(k_unique[:10])\n",
    "\n",
    "# Print the harmonics\n",
    "print(f\"\\nharmonics = The harmonics of each k-vector\")\n",
    "display(harmonics[:10])"
   ]
  },
  {
   "cell_type": "markdown",
   "id": "e8162add-f1d3-4421-afad-c6c03a19dfad",
   "metadata": {},
   "source": [
    "## Density modes \n",
    "\n",
    "Let's move now to the calculation of $n(\\mathbf k,t)$ by looking at a specific example. The system under consideration is a binary mixture of Carbon and Oxygen atoms interacting via a Yukawa potential. The input file can be found here :ref:`input_files/ybim_mks_pppm.yaml`. For reference, we reproduce the first few lines \n",
    "    \n",
    "    Particles:\n",
    "        - Species:\n",
    "            name: C\n",
    "            number_density: 1.0e+30       # /m^3\n",
    "            num: 10000                    # total number of particles of ion1\n",
    "            Z: 6.0                        # degree of ionization\n",
    "            atomic_weight: 12.011                      # atomic mass\n",
    "            temperature: 1.02e+5\n",
    "    \n",
    "        - Species:\n",
    "            name: O\n",
    "            number_density: 1.0e+30       # /m^3\n",
    "            num: 10000\n",
    "            Z: 8.0                      # degree of ionization\n",
    "            atomic_weight: 16                   # atomic mass\n",
    "            temperature: 1.02e+5\n",
    "\n",
    "The next few lines of code initialize the `PostProcess` class and import the usual libraries."
   ]
  },
  {
   "cell_type": "code",
   "execution_count": 2,
   "id": "a323d408-268d-4cb0-84f5-13d0a335a0bb",
   "metadata": {
    "execution": {
     "iopub.execute_input": "2024-08-31T22:18:45.667264Z",
     "iopub.status.busy": "2024-08-31T22:18:45.666886Z",
     "iopub.status.idle": "2024-08-31T22:19:01.134436Z",
     "shell.execute_reply": "2024-08-31T22:19:01.133907Z",
     "shell.execute_reply.started": "2024-08-31T22:18:45.667227Z"
    }
   },
   "outputs": [],
   "source": [
    "# Import the usual libraries\n",
    "import numpy as np\n",
    "import matplotlib.pyplot as plt\n",
    "%matplotlib inline\n",
    "import os\n",
    "plt.style.use('MSUstyle')\n",
    "# Import sarkas\n",
    "from sarkas.processes import PostProcess\n",
    "\n",
    "# Create the file path to the YAML input file\n",
    "input_file_name = os.path.join('input_files', 'ybim_mks_pppm.yaml')\n",
    "\n",
    "postproc = PostProcess(input_file_name)\n",
    "postproc.setup(read_yaml=True)"
   ]
  },
  {
   "cell_type": "markdown",
   "id": "d051adb6-77ac-4b9b-b44f-7bbcb68a2f4a",
   "metadata": {},
   "source": [
    "Because $n(\\mathbf k,t)$ is usually associated with the calculation of the static structure factor $S(k)$, in the next cell we import the observable `StaticStructureFactor` and instantiate the object `dsf`. Another reason for using this class is because we need to instantiate all "
   ]
  },
  {
   "cell_type": "code",
   "execution_count": 3,
   "id": "91d9616d-ecd8-4754-942c-44c9db4c7f11",
   "metadata": {
    "execution": {
     "iopub.execute_input": "2024-08-31T22:19:01.135308Z",
     "iopub.status.busy": "2024-08-31T22:19:01.135042Z",
     "iopub.status.idle": "2024-08-31T22:19:01.137944Z",
     "shell.execute_reply": "2024-08-31T22:19:01.137577Z",
     "shell.execute_reply.started": "2024-08-31T22:19:01.135290Z"
    }
   },
   "outputs": [],
   "source": [
    "from sarkas.tools.observables import StaticStructureFactor\n",
    "\n",
    "ssf = StaticStructureFactor()\n",
    "ssf.max_ka_value = 10\n",
    "ssf.angle_averaging = 'principal_axis'"
   ]
  },
  {
   "cell_type": "markdown",
   "id": "348486fb-a54e-4a17-bae0-0d4acbc4fe94",
   "metadata": {
    "execution": {
     "iopub.execute_input": "2024-08-31T21:41:56.323887Z",
     "iopub.status.busy": "2024-08-31T21:41:56.323637Z",
     "iopub.status.idle": "2024-08-31T21:41:56.328326Z",
     "shell.execute_reply": "2024-08-31T21:41:56.327592Z",
     "shell.execute_reply.started": "2024-08-31T21:41:56.323871Z"
    }
   },
   "source": [
    "The choice `ssf.max_ka_value = 10` means that we want to calculate all the $\\mathbf k$ vectors up to the maximum magnitude of $ka_{\\rm ws} = 10$, but only along the principal axis `ssf.angle_averaging = 'principal_axis'`. Let's setup the rest of the class attributes"
   ]
  },
  {
   "cell_type": "code",
   "execution_count": 4,
   "id": "10e6fabb-37cc-4615-8835-575ffb6ec2e6",
   "metadata": {
    "execution": {
     "iopub.execute_input": "2024-08-31T22:19:01.138598Z",
     "iopub.status.busy": "2024-08-31T22:19:01.138451Z",
     "iopub.status.idle": "2024-08-31T22:19:01.155024Z",
     "shell.execute_reply": "2024-08-31T22:19:01.154310Z",
     "shell.execute_reply.started": "2024-08-31T22:19:01.138582Z"
    }
   },
   "outputs": [
    {
     "name": "stdout",
     "output_type": "stream",
     "text": [
      "\n",
      "\n",
      "===================== Static Structure Function ======================\n",
      "Data saved in: \n",
      " SarkasSimulations/CO_mks_pppm/PostProcessing/StaticStructureFunction/Production/StaticStructureFunction_CO_mks_pppm.h5\n",
      "Data accessible via: self.dataframe_slices, self.dataframe\n",
      "\n",
      "Time Series Data:\n",
      "No. of blocks = 1\n",
      "No. dumps per block = 6001\n",
      "Total time per block: T = 3.2227e-13 [s] ~ 179 plasma periods\n",
      "Time interval: dt = 5.3709e-17 [s] ~ 3.0e-02 plasma period\n",
      "\n",
      "k-space information:\n",
      "k wave vector information saved in:\n",
      " SarkasSimulations/CO_mks_pppm/PostProcessing/k_space_data/k_arrays.npz\n",
      "Data accessible at: self.k_list, self.k_counts, self.ka_values\n",
      "\n",
      "Wave vector parameters:\n",
      "Smallest wave vector k_min = 2 pi / L = 3.9 / N^(1/3)\n",
      "k_min = 0.1436 / a_ws = 2.9164e+09 [1/m]\n",
      "\n",
      "Angle averaging choice: principal_axis\n",
      "\tMaximum k harmonics = n_x, n_y, n_z = 69.0, 69.0, 69.0\n",
      "\tLargest wave vector k_max = k_min * n_x\n",
      "\tk_max = 9.9081 / a_ws = 2.0123e+11 [1/m]\n",
      "\n",
      "Total number of k values to calculate = 207\n",
      "No. of unique ka values to calculate = 69\n",
      "\n",
      "n(k,t) data saved in: \n",
      " SarkasSimulations/CO_mks_pppm/PostProcessing/k_space_data/nkt.h5\n",
      "\n"
     ]
    }
   ],
   "source": [
    "ssf.setup(\n",
    "    postproc.parameters,\n",
    "    no_slices=1 # For simplicity we use all the data.\n",
    ")"
   ]
  },
  {
   "cell_type": "markdown",
   "id": "7d09b3b9-51b3-4f49-990b-dbee87ddeee4",
   "metadata": {},
   "source": [
    "That's a lot of information, but for the moment we are only interested in the following \n",
    "\n",
    "    k-space information:\n",
    "    k wave vector information saved in:\n",
    "     SarkasSimulations/CO_mks_pppm/PostProcessing/k_space_data/k_arrays.npz\n",
    "    Data accessible at: self.k_list, self.k_counts, self.ka_values\n",
    "    \n",
    "    Wave vector parameters:\n",
    "    Smallest wave vector k_min = 2 pi / L = 3.9 / N^(1/3)\n",
    "    k_min = 0.1436 / a_ws = 2.9164e+09 [1/m]\n",
    "    \n",
    "    Angle averaging choice: principal_axis\n",
    "    \tMaximum k harmonics = n_x, n_y, n_z = 69.0, 69.0, 69.0\n",
    "    \tLargest wave vector k_max = k_min * n_x\n",
    "    \tk_max = 9.9081 / a_ws = 2.0123e+11 [1/m]\n",
    "    \n",
    "    Total number of k values to calculate = 207\n",
    "    No. of unique ka values to calculate = 69\n",
    "    \n",
    "    n(k,t) data saved in: \n",
    "     SarkasSimulations/CO_mks_pppm/PostProcessing/k_space_data/nkt.h5\n",
    "\n",
    "which tells us where the data is stored and some useful information on our choice of parameters. \n",
    "\n",
    "Let's calculate $n(\\mathbf k,t)$ by calling `ssf.calc_kt_data()` with the option `data_type = n`. This function reads the positions or velocities of the particles from the H5MD file in chunks of size `min(1000, self.no_dumps)`. Each chunk of data is then sent to the method `calc_kt_chunk` which redirects the chunks for the actual calculation of $n(k,t)$ or $\\mathbf v(\\mathbf k,t)$. The output array is then stored into an HDF5 file, see attribute `nkt_hdf_file` or `vkt_hdf_file`. The file is organized hierarchically to separate data for each species while maintaining common information at the root level."
   ]
  },
  {
   "cell_type": "code",
   "execution_count": 5,
   "id": "a5803245-a31e-4ff3-b998-32d11d6de21e",
   "metadata": {
    "execution": {
     "iopub.execute_input": "2024-08-31T22:19:01.156053Z",
     "iopub.status.busy": "2024-08-31T22:19:01.155821Z",
     "iopub.status.idle": "2024-08-31T22:33:11.943887Z",
     "shell.execute_reply": "2024-08-31T22:33:11.943245Z",
     "shell.execute_reply.started": "2024-08-31T22:19:01.156029Z"
    }
   },
   "outputs": [
    {
     "data": {
      "application/vnd.jupyter.widget-view+json": {
       "model_id": "f5772b02e24f4434b2fb7441fee09bb4",
       "version_major": 2,
       "version_minor": 0
      },
      "text/plain": [
       "Calculating n(k,t) in chunks:   0%|          | 0/7 [00:00<?, ?it/s]"
      ]
     },
     "metadata": {},
     "output_type": "display_data"
    },
    {
     "name": "stdout",
     "output_type": "stream",
     "text": [
      "n(k,t) stored in SarkasSimulations/CO_mks_pppm/PostProcessing/k_space_data/nkt.h5\n"
     ]
    }
   ],
   "source": [
    "ssf.calc_kt_data(data_type='n')"
   ]
  },
  {
   "cell_type": "markdown",
   "id": "2e699ebb-6c1c-4c22-a590-09495f317fef",
   "metadata": {
    "execution": {
     "iopub.execute_input": "2024-08-31T22:33:11.945728Z",
     "iopub.status.busy": "2024-08-31T22:33:11.945507Z",
     "iopub.status.idle": "2024-08-31T22:33:11.949599Z",
     "shell.execute_reply": "2024-08-31T22:33:11.948827Z",
     "shell.execute_reply.started": "2024-08-31T22:33:11.945711Z"
    }
   },
   "source": [
    "### Storage of n(k,t)\n",
    "\n",
    "At the root of the file, you'll find\n",
    "\n",
    "- A group for each species in your simulation with a dataset\n",
    "    - `nkt` with shape `(len(species_np), len(k_list), no_dumps)`,\n",
    "- A dataset named 'k_list' storing the attribute `k_list`\n",
    "- Several attributes containing metadata\n",
    "    -`no_species`: Number of species in the simulation\n",
    "    -`species_names`: List of species names\n",
    "    -`no_dumps`: Total number of time steps\n",
    "    -`dump_step`: Time step interval\n",
    "    -`max_chunk_size`: Maximum chunk size used for calculations\n",
    "    -`max_k_harmonics`: Maximum number of k harmonics\n",
    "    -`angle_averaging`: Boolean indicating if angle averaging was used\n",
    "\n",
    "The following code prints out the information of the HDF file "
   ]
  },
  {
   "cell_type": "code",
   "execution_count": 10,
   "id": "558ffb3f-00ce-4364-bf56-11076e1ab33a",
   "metadata": {
    "execution": {
     "iopub.execute_input": "2024-08-31T22:41:30.642155Z",
     "iopub.status.busy": "2024-08-31T22:41:30.641751Z",
     "iopub.status.idle": "2024-08-31T22:41:30.668925Z",
     "shell.execute_reply": "2024-08-31T22:41:30.668417Z",
     "shell.execute_reply.started": "2024-08-31T22:41:30.642137Z"
    }
   },
   "outputs": [
    {
     "name": "stdout",
     "output_type": "stream",
     "text": [
      "HDF5 File Structure:\n",
      "Group: C\n",
      "Dataset: C/nkt\n",
      "  Shape: (207, 6001)\n",
      "  Type: complex128\n",
      "Group: O\n",
      "Dataset: O/nkt\n",
      "  Shape: (207, 6001)\n",
      "  Type: complex128\n",
      "Dataset: k_list\n",
      "  Shape: (207, 5)\n",
      "  Type: float64\n",
      "\n",
      "Root level attributes:\n",
      "  angle_averaging: principal_axis\n",
      "  dump_step: 5\n",
      "  max_chunk_size: 1000\n",
      "  max_k_harmonics: [69 69 69]\n",
      "  no_dumps: 6001\n",
      "  no_species: 2\n",
      "  species_names: ['C' 'O']\n"
     ]
    }
   ],
   "source": [
    "import h5py\n",
    "\n",
    "def print_hdf5_structure(name, obj):\n",
    "    if isinstance(obj, h5py.Group):\n",
    "        print(f\"Group: {name}\")\n",
    "        # Print attributes of the group\n",
    "        if len(obj.attrs) > 0:\n",
    "            print(\"  Attributes:\")\n",
    "            for key, value in obj.attrs.items():\n",
    "                print(f\"    {key}: {value}\")\n",
    "    elif isinstance(obj, h5py.Dataset):\n",
    "        print(f\"Dataset: {name}\")\n",
    "        print(f\"  Shape: {obj.shape}\")\n",
    "        print(f\"  Type: {obj.dtype}\")\n",
    "        # Print attributes of the dataset\n",
    "        if len(obj.attrs) > 0:\n",
    "            print(\"  Attributes:\")\n",
    "            for key, value in obj.attrs.items():\n",
    "                print(f\"    {key}: {value}\")\n",
    "\n",
    "\n",
    "with h5py.File(ssf.nkt_hdf_file, 'r') as f:\n",
    "    print(\"HDF5 File Structure:\")\n",
    "    f.visititems(print_hdf5_structure)\n",
    "    \n",
    "    print(\"\\nRoot level attributes:\")\n",
    "    for key, value in f.attrs.items():\n",
    "        print(f\"  {key}: {value}\")\n",
    "\n",
    "# Read the data for each species\n",
    "with h5py.File(ssf.nkt_hdf_file, 'r') as f:\n",
    "    nkt_C = f[\"C/nkt\"][:]\n",
    "    nkt_O = f[\"O/nkt\"][:]"
   ]
  },
  {
   "cell_type": "markdown",
   "id": "9852b22c-ddcf-4915-8c71-ba54231b34d1",
   "metadata": {
    "execution": {
     "iopub.execute_input": "2024-08-31T22:41:47.793732Z",
     "iopub.status.busy": "2024-08-31T22:41:47.793490Z",
     "iopub.status.idle": "2024-08-31T22:41:47.797784Z",
     "shell.execute_reply": "2024-08-31T22:41:47.797118Z",
     "shell.execute_reply.started": "2024-08-31T22:41:47.793716Z"
    }
   },
   "source": [
    "Note that the shape of each `nkt` is `(207, 6001)` meaning that no averaging over the direction of $\\mathbf k$ has been performed. If your system is isotropic you can perform the angle averaging as follows"
   ]
  },
  {
   "cell_type": "code",
   "execution_count": 25,
   "id": "3cf6544f-404c-47e7-81b9-d7e7cb7c0c3e",
   "metadata": {
    "execution": {
     "iopub.execute_input": "2024-08-31T22:59:34.574540Z",
     "iopub.status.busy": "2024-08-31T22:59:34.574066Z",
     "iopub.status.idle": "2024-08-31T22:59:34.599538Z",
     "shell.execute_reply": "2024-08-31T22:59:34.599007Z",
     "shell.execute_reply.started": "2024-08-31T22:59:34.574522Z"
    }
   },
   "outputs": [
    {
     "name": "stdout",
     "output_type": "stream",
     "text": [
      "Shape of averaged data: (69, 6001)\n",
      "Number of unique k magnitudes: 69\n"
     ]
    }
   ],
   "source": [
    "import numpy as np\n",
    "import h5py\n",
    "\n",
    "def average_over_k_magnitudes(nkt_hdf_file, species, data_type = 'nkt'):\n",
    "    \"\"\"\n",
    "    Average n(k,t) or v(k,t) data over k values with the same magnitude,\n",
    "    using pre-calculated magnitudes and indices stored in k_list.\n",
    "    \n",
    "    Parameters:\n",
    "    nkt_hdf_file (str): Path to the HDF5 file containing n(k,t) or v(k,t) data\n",
    "    species (str): Name of the species to process\n",
    "    \n",
    "    Returns:\n",
    "    tuple: (k_mag_unique, nkt_avg)\n",
    "        k_mag_unique: Array of unique k magnitudes\n",
    "        nkt_avg: Array of averaged n(k,t) or v(k,t) data\n",
    "    \"\"\"\n",
    "    with h5py.File(nkt_hdf_file, 'r') as f:\n",
    "        k_list = f['k_list'][:]\n",
    "        nkt_data = f[species][data_type][:]\n",
    "    \n",
    "    # Extract k magnitudes and indices from k_list\n",
    "    k_mag = k_list[:, 3]\n",
    "    k_mag_indices = k_list[:, 4].astype(int)\n",
    "    \n",
    "    # Find unique k magnitudes\n",
    "    k_mag_unique = np.unique(k_mag)\n",
    "    \n",
    "    # Initialize array for averaged data\n",
    "    if nkt_data.ndim == 2:  # n(k,t) data\n",
    "        nkt_avg = np.zeros((len(k_mag_unique), nkt_data.shape[1]), dtype=complex)\n",
    "    elif nkt_data.ndim == 3:  # v(k,t) data\n",
    "        nkt_avg = np.zeros((len(k_mag_unique), 3, nkt_data.shape[2]), dtype=complex)\n",
    "    else:\n",
    "        raise ValueError(\"Unexpected shape of data\")\n",
    "    \n",
    "    # Perform averaging\n",
    "    for i in range(len(k_mag_unique)):\n",
    "        mask = (k_mag_indices == i)\n",
    "        if nkt_data.ndim == 2:  # n(k,t) data\n",
    "            nkt_avg[i] = np.mean(nkt_data[mask] * nkt_data[mask].conjugate(), axis=0)\n",
    "        else:  # v(k,t) data\n",
    "            nkt_avg[i] = np.mean(nkt_data[mask] * nkt_data[mask].conjugate(), axis=0)\n",
    "    \n",
    "    return nkt_avg\n",
    "\n",
    "nkt_C_avg = average_over_k_magnitudes(ssf.nkt_hdf_file, 'C', 'nkt')\n",
    "\n",
    "print(f\"Shape of averaged data: {nkt_C_avg.shape}\")\n",
    "print(f\"Number of unique k magnitudes: {len(k_mag_unique)}\")"
   ]
  },
  {
   "cell_type": "code",
   "execution_count": 28,
   "id": "8fd0f3d1-1d7b-4af6-ad73-a9d865e56527",
   "metadata": {
    "execution": {
     "iopub.execute_input": "2024-09-01T15:22:49.898314Z",
     "iopub.status.busy": "2024-09-01T15:22:49.898102Z",
     "iopub.status.idle": "2024-09-01T15:22:50.086113Z",
     "shell.execute_reply": "2024-09-01T15:22:50.085536Z",
     "shell.execute_reply.started": "2024-09-01T15:22:49.898297Z"
    }
   },
   "outputs": [
    {
     "data": {
      "text/plain": [
       "[<matplotlib.lines.Line2D at 0x7fe29d4e0d30>]"
      ]
     },
     "execution_count": 28,
     "metadata": {},
     "output_type": "execute_result"
    },
    {
     "data": {
      "image/png": "[encoded data removed]",
      "text/plain": [
       "<Figure size 1000x700 with 1 Axes>"
      ]
     },
     "metadata": {},
     "output_type": "display_data"
    }
   ],
   "source": [
    "import matplotlib.pyplot as plt\n",
    "from matplotlib.colors import LogNorm\n",
    "\n",
    "\n",
    "# Generate time array\n",
    "time = np.arange(nkt_C_avg.shape[-1]) * ssf.dump_step\n",
    "\n",
    "fig, ax = plt.subplots(1, 1)\n",
    "ax.plot(ssf.ka_values, 1./np.sqrt(ssf.species_num_dens[0]**2) * (nkt_C_avg[:,:]).mean(axis = 1))\n"
   ]
  },
  {
   "cell_type": "code",
   "execution_count": null,
   "id": "a7554b2b-0087-46b0-9e90-7595d479f41d",
   "metadata": {},
   "outputs": [],
   "source": []
  }
 ],
 "metadata": {
  "kernelspec": {
   "display_name": "Python 3 (ipykernel)",
   "language": "python",
   "name": "python3"
  },
  "language_info": {
   "codemirror_mode": {
    "name": "ipython",
    "version": 3
   },
   "file_extension": ".py",
   "mimetype": "text/x-python",
   "name": "python",
   "nbconvert_exporter": "python",
   "pygments_lexer": "ipython3",
   "version": "3.9.18"
  },
  "widgets": {
   "application/vnd.jupyter.widget-state+json": {
    "state": {
     "0dd1883bd2eb4b4298130d89b65c8364": {
      "model_module": "@jupyter-widgets/controls",
      "model_module_version": "2.0.0",
      "model_name": "HTMLModel",
      "state": {
       "layout": "IPY_MODEL_e6691f9b996546c689b8e3d4c96d3d26",
       "style": "IPY_MODEL_9bd5124d3f314cf5abba409411784dcb",
       "value": "Calculating n(k,t) in chunks: 100%"
      }
     },
     "144f9c06d1a24113980392d4c467c809": {
      "model_module": "@jupyter-widgets/base",
      "model_module_version": "2.0.0",
      "model_name": "LayoutModel",
      "state": {}
     },
     "14a2b52dee3943579d613822cda3a9a7": {
      "model_module": "@jupyter-widgets/controls",
      "model_module_version": "2.0.0",
      "model_name": "FloatProgressModel",
      "state": {
       "bar_style": "success",
       "layout": "IPY_MODEL_144f9c06d1a24113980392d4c467c809",
       "max": 7,
       "style": "IPY_MODEL_e8028956b58a47cfbd056a43c44abd99",
       "value": 7
      }
     },
     "19316fb90e5c46518cacf1f45ed2d175": {
      "model_module": "@jupyter-widgets/controls",
      "model_module_version": "2.0.0",
      "model_name": "HTMLModel",
      "state": {
       "layout": "IPY_MODEL_d1ce689c6ded40e5b370683e5b383e8d",
       "style": "IPY_MODEL_3cce7e2690af414ca77ea25da604c733",
       "value": " 7/7 [14:10&lt;00:00, 96.01s/it]"
      }
     },
     "3cce7e2690af414ca77ea25da604c733": {
      "model_module": "@jupyter-widgets/controls",
      "model_module_version": "2.0.0",
      "model_name": "HTMLStyleModel",
      "state": {
       "description_width": "",
       "font_size": null,
       "text_color": null
      }
     },
     "9bd5124d3f314cf5abba409411784dcb": {
      "model_module": "@jupyter-widgets/controls",
      "model_module_version": "2.0.0",
      "model_name": "HTMLStyleModel",
      "state": {
       "description_width": "",
       "font_size": null,
       "text_color": null
      }
     },
     "d1ce689c6ded40e5b370683e5b383e8d": {
      "model_module": "@jupyter-widgets/base",
      "model_module_version": "2.0.0",
      "model_name": "LayoutModel",
      "state": {}
     },
     "e6691f9b996546c689b8e3d4c96d3d26": {
      "model_module": "@jupyter-widgets/base",
      "model_module_version": "2.0.0",
      "model_name": "LayoutModel",
      "state": {}
     },
     "e8028956b58a47cfbd056a43c44abd99": {
      "model_module": "@jupyter-widgets/controls",
      "model_module_version": "2.0.0",
      "model_name": "ProgressStyleModel",
      "state": {
       "description_width": ""
      }
     },
     "f5772b02e24f4434b2fb7441fee09bb4": {
      "model_module": "@jupyter-widgets/controls",
      "model_module_version": "2.0.0",
      "model_name": "HBoxModel",
      "state": {
       "children": [
        "IPY_MODEL_0dd1883bd2eb4b4298130d89b65c8364",
        "IPY_MODEL_14a2b52dee3943579d613822cda3a9a7",
        "IPY_MODEL_19316fb90e5c46518cacf1f45ed2d175"
       ],
       "layout": "IPY_MODEL_f63b0e3359d247958f933bfd4ce482dd"
      }
     },
     "f63b0e3359d247958f933bfd4ce482dd": {
      "model_module": "@jupyter-widgets/base",
      "model_module_version": "2.0.0",
      "model_name": "LayoutModel",
      "state": {}
     }
    },
    "version_major": 2,
    "version_minor": 0
   }
  }
 },
 "nbformat": 4,
 "nbformat_minor": 5
}
